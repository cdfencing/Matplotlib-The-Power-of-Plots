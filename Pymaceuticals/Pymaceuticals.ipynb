{
 "cells": [
  {
   "cell_type": "markdown",
   "metadata": {},
   "source": [
    "## Observations and Insights "
   ]
  },
  {
   "cell_type": "code",
   "execution_count": 1,
   "metadata": {},
   "outputs": [
    {
     "data": {
      "text/html": [
       "<div>\n",
       "<style scoped>\n",
       "    .dataframe tbody tr th:only-of-type {\n",
       "        vertical-align: middle;\n",
       "    }\n",
       "\n",
       "    .dataframe tbody tr th {\n",
       "        vertical-align: top;\n",
       "    }\n",
       "\n",
       "    .dataframe thead th {\n",
       "        text-align: right;\n",
       "    }\n",
       "</style>\n",
       "<table border=\"1\" class=\"dataframe\">\n",
       "  <thead>\n",
       "    <tr style=\"text-align: right;\">\n",
       "      <th></th>\n",
       "      <th>Mouse ID</th>\n",
       "      <th>Drug Regimen</th>\n",
       "      <th>Sex</th>\n",
       "      <th>Age_months</th>\n",
       "      <th>Weight (g)</th>\n",
       "      <th>Timepoint</th>\n",
       "      <th>Tumor Volume (mm3)</th>\n",
       "      <th>Metastatic Sites</th>\n",
       "    </tr>\n",
       "  </thead>\n",
       "  <tbody>\n",
       "    <tr>\n",
       "      <th>454</th>\n",
       "      <td>a203</td>\n",
       "      <td>Infubinol</td>\n",
       "      <td>Female</td>\n",
       "      <td>20</td>\n",
       "      <td>23</td>\n",
       "      <td>0</td>\n",
       "      <td>45.000000</td>\n",
       "      <td>0</td>\n",
       "    </tr>\n",
       "    <tr>\n",
       "      <th>455</th>\n",
       "      <td>a203</td>\n",
       "      <td>Infubinol</td>\n",
       "      <td>Female</td>\n",
       "      <td>20</td>\n",
       "      <td>23</td>\n",
       "      <td>5</td>\n",
       "      <td>48.508468</td>\n",
       "      <td>0</td>\n",
       "    </tr>\n",
       "    <tr>\n",
       "      <th>456</th>\n",
       "      <td>a203</td>\n",
       "      <td>Infubinol</td>\n",
       "      <td>Female</td>\n",
       "      <td>20</td>\n",
       "      <td>23</td>\n",
       "      <td>10</td>\n",
       "      <td>51.852437</td>\n",
       "      <td>1</td>\n",
       "    </tr>\n",
       "    <tr>\n",
       "      <th>457</th>\n",
       "      <td>a203</td>\n",
       "      <td>Infubinol</td>\n",
       "      <td>Female</td>\n",
       "      <td>20</td>\n",
       "      <td>23</td>\n",
       "      <td>15</td>\n",
       "      <td>52.777870</td>\n",
       "      <td>1</td>\n",
       "    </tr>\n",
       "    <tr>\n",
       "      <th>458</th>\n",
       "      <td>a203</td>\n",
       "      <td>Infubinol</td>\n",
       "      <td>Female</td>\n",
       "      <td>20</td>\n",
       "      <td>23</td>\n",
       "      <td>20</td>\n",
       "      <td>55.173336</td>\n",
       "      <td>1</td>\n",
       "    </tr>\n",
       "  </tbody>\n",
       "</table>\n",
       "</div>"
      ],
      "text/plain": [
       "    Mouse ID Drug Regimen     Sex  Age_months  Weight (g)  Timepoint  \\\n",
       "454     a203    Infubinol  Female          20          23          0   \n",
       "455     a203    Infubinol  Female          20          23          5   \n",
       "456     a203    Infubinol  Female          20          23         10   \n",
       "457     a203    Infubinol  Female          20          23         15   \n",
       "458     a203    Infubinol  Female          20          23         20   \n",
       "\n",
       "     Tumor Volume (mm3)  Metastatic Sites  \n",
       "454           45.000000                 0  \n",
       "455           48.508468                 0  \n",
       "456           51.852437                 1  \n",
       "457           52.777870                 1  \n",
       "458           55.173336                 1  "
      ]
     },
     "execution_count": 1,
     "metadata": {},
     "output_type": "execute_result"
    }
   ],
   "source": [
    "%matplotlib inline\n",
    "\n",
    "# Dependencies and Setup\n",
    "import matplotlib.pyplot as plt\n",
    "import numpy as np\n",
    "import pandas as pd\n",
    "import scipy.stats as st\n",
    "from scipy.stats import linregress\n",
    "from sklearn import datasets\n",
    "\n",
    "# Study data files\n",
    "mouse_metadata_path = \"data/Mouse_metadata.csv\"\n",
    "study_results_path = \"data/Study_results.csv\"\n",
    "\n",
    "# Read the mouse data and the study results\n",
    "mouse_metadata = pd.read_csv(mouse_metadata_path)\n",
    "study_results = pd.read_csv(study_results_path)\n",
    "\n",
    "# Combine the data into a single dataset and display the data table for preview\n",
    "combined_mousestudy_df = pd.merge(mouse_metadata, study_results,\n",
    "                                 how='left', on='Mouse ID')\n",
    "\n",
    "# sorting by mouse id and remove values that are duplicated\n",
    "combined_mousestudy_df.sort_values([\"Mouse ID\", \"Timepoint\"], inplace = True) \n",
    "\n",
    "combined_mousestudy_df.loc[combined_mousestudy_df.duplicated(subset = [\"Mouse ID\", \"Timepoint\"]), \"Mouse ID\"]\n",
    "\n",
    "combined_mousestudy_df = combined_mousestudy_df.loc[combined_mousestudy_df[\"Mouse ID\"] != \"g989\", :]\n",
    "\n",
    "combined_mousestudy_df.head()\n"
   ]
  },
  {
   "cell_type": "markdown",
   "metadata": {},
   "source": [
    "## Summary Statistics"
   ]
  },
  {
   "cell_type": "code",
   "execution_count": 2,
   "metadata": {},
   "outputs": [
    {
     "data": {
      "text/html": [
       "<div>\n",
       "<style scoped>\n",
       "    .dataframe tbody tr th:only-of-type {\n",
       "        vertical-align: middle;\n",
       "    }\n",
       "\n",
       "    .dataframe tbody tr th {\n",
       "        vertical-align: top;\n",
       "    }\n",
       "\n",
       "    .dataframe thead th {\n",
       "        text-align: right;\n",
       "    }\n",
       "</style>\n",
       "<table border=\"1\" class=\"dataframe\">\n",
       "  <thead>\n",
       "    <tr style=\"text-align: right;\">\n",
       "      <th></th>\n",
       "      <th>Avg Tumor Vol</th>\n",
       "      <th>Mediam Tumor Vol</th>\n",
       "      <th>Tumor Vol Variance</th>\n",
       "      <th>Tumor Vol Standard Deviation</th>\n",
       "      <th>Tumor Vol Standard Error of Mean</th>\n",
       "    </tr>\n",
       "    <tr>\n",
       "      <th>Drug Regimen</th>\n",
       "      <th></th>\n",
       "      <th></th>\n",
       "      <th></th>\n",
       "      <th></th>\n",
       "      <th></th>\n",
       "    </tr>\n",
       "  </thead>\n",
       "  <tbody>\n",
       "    <tr>\n",
       "      <th>Capomulin</th>\n",
       "      <td>40.675741</td>\n",
       "      <td>41.557809</td>\n",
       "      <td>24.947764</td>\n",
       "      <td>4.994774</td>\n",
       "      <td>0.329346</td>\n",
       "    </tr>\n",
       "    <tr>\n",
       "      <th>Ceftamin</th>\n",
       "      <td>52.591172</td>\n",
       "      <td>51.776157</td>\n",
       "      <td>39.290177</td>\n",
       "      <td>6.268188</td>\n",
       "      <td>0.469821</td>\n",
       "    </tr>\n",
       "    <tr>\n",
       "      <th>Infubinol</th>\n",
       "      <td>52.884795</td>\n",
       "      <td>51.820584</td>\n",
       "      <td>43.128684</td>\n",
       "      <td>6.567243</td>\n",
       "      <td>0.492236</td>\n",
       "    </tr>\n",
       "    <tr>\n",
       "      <th>Ketapril</th>\n",
       "      <td>55.235638</td>\n",
       "      <td>53.698743</td>\n",
       "      <td>68.553577</td>\n",
       "      <td>8.279709</td>\n",
       "      <td>0.603860</td>\n",
       "    </tr>\n",
       "    <tr>\n",
       "      <th>Naftisol</th>\n",
       "      <td>54.331565</td>\n",
       "      <td>52.509285</td>\n",
       "      <td>66.173479</td>\n",
       "      <td>8.134708</td>\n",
       "      <td>0.596466</td>\n",
       "    </tr>\n",
       "  </tbody>\n",
       "</table>\n",
       "</div>"
      ],
      "text/plain": [
       "              Avg Tumor Vol  Mediam Tumor Vol  Tumor Vol Variance  \\\n",
       "Drug Regimen                                                        \n",
       "Capomulin         40.675741         41.557809           24.947764   \n",
       "Ceftamin          52.591172         51.776157           39.290177   \n",
       "Infubinol         52.884795         51.820584           43.128684   \n",
       "Ketapril          55.235638         53.698743           68.553577   \n",
       "Naftisol          54.331565         52.509285           66.173479   \n",
       "\n",
       "              Tumor Vol Standard Deviation  Tumor Vol Standard Error of Mean  \n",
       "Drug Regimen                                                                  \n",
       "Capomulin                         4.994774                          0.329346  \n",
       "Ceftamin                          6.268188                          0.469821  \n",
       "Infubinol                         6.567243                          0.492236  \n",
       "Ketapril                          8.279709                          0.603860  \n",
       "Naftisol                          8.134708                          0.596466  "
      ]
     },
     "execution_count": 2,
     "metadata": {},
     "output_type": "execute_result"
    }
   ],
   "source": [
    "# Summary statistics table \n",
    "# mean, median, variance, standard deviation, and SEM (standard error of the mean) of the tumor volume for each regimen\n",
    "\n",
    "\n",
    "tumor_volume_avg = combined_mousestudy_df.groupby([\"Drug Regimen\"]).mean()[\"Tumor Volume (mm3)\"].rename(\"Mean\")\n",
    "tumor_volume_median = combined_mousestudy_df.groupby([\"Drug Regimen\"]).median()[\"Tumor Volume (mm3)\"].rename(\"Median\")\n",
    "tumor_volume_variance = combined_mousestudy_df.groupby([\"Drug Regimen\"]).var()[\"Tumor Volume (mm3)\"].rename(\"Variance\")\n",
    "tumor_volume_standev = combined_mousestudy_df.groupby([\"Drug Regimen\"]).std()[\"Tumor Volume (mm3)\"].rename(\"Standard Deviation\")\n",
    "tumor_volume_sem = combined_mousestudy_df.groupby([\"Drug Regimen\"]).sem()[\"Tumor Volume (mm3)\"].rename(\"Standard Error of Mean\")\n",
    "\n",
    "Summary_tumor_volume = pd.DataFrame({'Avg Tumor Vol': tumor_volume_avg, 'Mediam Tumor Vol': tumor_volume_median, \n",
    "                                     'Tumor Vol Variance': tumor_volume_variance, 'Tumor Vol Standard Deviation': tumor_volume_standev, \n",
    "                                     'Tumor Vol Standard Error of Mean': tumor_volume_sem})\n",
    "\n",
    "Summary_tumor_volume.head()"
   ]
  },
  {
   "cell_type": "markdown",
   "metadata": {},
   "source": [
    "## Bar and Pie Charts"
   ]
  },
  {
   "cell_type": "code",
   "execution_count": 24,
   "metadata": {},
   "outputs": [
    {
     "data": {
      "text/plain": [
       "Text(0, 0.5, 'Number of Mice')"
      ]
     },
     "execution_count": 24,
     "metadata": {},
     "output_type": "execute_result"
    },
    {
     "data": {
      "image/png": "[encoded data removed]",
      "text/plain": [
       "<Figure size 432x288 with 1 Axes>"
      ]
     },
     "metadata": {
      "needs_background": "light"
     },
     "output_type": "display_data"
    }
   ],
   "source": [
    "# Grouping mice by drug regimen \n",
    "mice_by_treatment = combined_mousestudy_df.groupby(\"Drug Regimen\")\n",
    "\n",
    "# Count how many number of mice in each regimen\n",
    "count_mice_by_treatment = mice_by_treatment[\"Drug Regimen\"].count()\n",
    "\n",
    "# Bar plot displaying number of mice per drug regimen by pandas method\n",
    "\n",
    "count_chart = count_mice_by_treatment.plot(kind='bar', color=\"b\")\n",
    "\n",
    "# Set the xlabel and ylabel \n",
    "plt.title(\"Mice Per Drug Regimen\")\n",
    "count_chart.set_xlabel(\"Drug Regimen\")\n",
    "count_chart.set_ylabel(\"Number of Mice\")"
   ]
  },
  {
   "cell_type": "code",
   "execution_count": 16,
   "metadata": {},
   "outputs": [
    {
     "data": {
      "text/plain": [
       "Drug Regimen\n",
       "Capomulin    230\n",
       "Ceftamin     178\n",
       "Infubinol    178\n",
       "Ketapril     188\n",
       "Naftisol     186\n",
       "Placebo      181\n",
       "Propriva     148\n",
       "Ramicane     228\n",
       "Stelasyn     181\n",
       "Zoniferol    182\n",
       "Name: Drug Regimen, dtype: int64"
      ]
     },
     "execution_count": 16,
     "metadata": {},
     "output_type": "execute_result"
    }
   ],
   "source": [
    "# Get the number of mice per treatment to make an array for pyplot method\n",
    "count_mice_by_treatment"
   ]
  },
  {
   "cell_type": "code",
   "execution_count": 34,
   "metadata": {},
   "outputs": [
    {
     "data": {
      "text/plain": [
       "Text(0, 0.5, 'Number of Mice')"
      ]
     },
     "execution_count": 34,
     "metadata": {},
     "output_type": "execute_result"
    },
    {
     "data": {
      "image/png": "[encoded data removed]",
      "text/plain": [
       "<Figure size 432x288 with 1 Axes>"
      ]
     },
     "metadata": {
      "needs_background": "light"
     },
     "output_type": "display_data"
    }
   ],
   "source": [
    "# Bar plot displaying number of mice per drug regimen by pyplot method\n",
    "\n",
    "#Create the array with the numbers of mice per treatment\n",
    "treatment_numbers = [230, 178, 178, 188, 186, 181, 148, 228, 181, 182]\n",
    "\n",
    "#Set the x_axis to be the amount of mice per treatment\n",
    "x_axis = np.arange(len(count_mice_by_treatment))\n",
    "\n",
    "plt.bar(x_axis, treatment_numbers, color='blue', alpha=0.75, align='center')\n",
    "\n",
    "# create the tick locations\n",
    "tick_locations = [i for i in x_axis]\n",
    "plt.xticks(tick_locations, ['Capomulin', 'Ceftamin', 'Infubinol', \n",
    "        'Ketapril', 'Naftisol', 'Placebo', 'Propriva', \n",
    "        'Ramicane', 'Stelasyn', 'Zoniferol'],  rotation='vertical')\n",
    "\n",
    "#set the limits\n",
    "plt.xlim(-0.75, len(x_axis)-0.25)\n",
    "plt.ylim(0, max(treatment_numbers)+10)\n",
    "\n",
    "#set the labels \n",
    "plt.title(\"Mice Per Drug Regimen\")\n",
    "plt.xlabel(\"Drug Regimen\")\n",
    "plt.ylabel(\"Number of Mice\")\n"
   ]
  },
  {
   "cell_type": "code",
   "execution_count": null,
   "metadata": {},
   "outputs": [],
   "source": [
    "# Grouping mice by drug regimen \n",
    "mice_by_sex = combined_mousestudy_df.groupby(\"Sex\")\n",
    "\n",
    "# Count how many number of mice in each regimen\n",
    "count_mice_by_sex = mice_by_sex[\"Sex\"].count()\n",
    "\n",
    "# pie chart displaying the distribution of female versus male mice using pandas\n",
    "colors = [\"lightpink\", \"lightskyblue\"]\n",
    "explode = (0, 0.05)\n",
    "mice_by_sex_chart = count_mice_by_sex.plot(kind='pie', autopct=\"%1.1f%%\", shadow=True, startangle=0, colors=colors , explode=explode) \n",
    "plt.title(\"Mice by Sex\")\n",
    "plt.axis(\"equal\")\n",
    "plt.ylabel(None)\n"
   ]
  },
  {
   "cell_type": "code",
   "execution_count": null,
   "metadata": {},
   "outputs": [],
   "source": [
    "# pie chart displaying the distribution of female versus male mice using pyplot\n",
    "\n",
    "sex = combined_mousestudy_df[\"Sex\"].unique()\n",
    "percent_sex = count_mice_by_sex\n",
    "colors = [\"lightpink\", \"lightskyblue\"]\n",
    "explode = (0, 0.05)\n",
    "\n",
    "plt.pie(percent_sex, explode=explode, labels=sex, colors=colors,\n",
    "        autopct=\"%1.1f%%\", shadow=True, startangle=0)\n",
    "\n",
    "plt.title(\"Mice by Sex\")\n",
    "plt.axis(\"equal\")"
   ]
  },
  {
   "cell_type": "markdown",
   "metadata": {},
   "source": [
    "## Quartiles, Outliers and Boxplots"
   ]
  },
  {
   "cell_type": "code",
   "execution_count": null,
   "metadata": {},
   "outputs": [],
   "source": [
    "# Grab the top 4 regimens (Capomulin, Ramicane, Infubinol, and Ceftamin)\n",
    "\n",
    "combined_df = combined_mousestudy_df\n",
    "drug_list =['Capomulin', 'Ramicane', 'Infubinol', 'Ceftamin']\n",
    "\n",
    "top_reg = combined_df[combined_df[\"Drug Regimen\"].isin(drug_list)]\n",
    "top_reg = top_reg.sort_values([\"Timepoint\"])\n",
    "top_reg\n",
    "\n",
    "top_reg_dat = top_reg[[\"Drug Regimen\", \"Mouse ID\", \"Timepoint\", \"Tumor Volume (mm3)\"]]\n",
    "top_reg_dat\n",
    "\n",
    "#Group the data by both Drug Regimen and Mouse ID and get the final tumor measurement\n",
    "top_reg_sort = top_reg_dat.groupby(['Drug Regimen', 'Mouse ID']).last()['Tumor Volume (mm3)']\n",
    "top_reg_sort.head()\n",
    "\n",
    "# put above data into dataframe for future manipulation\n",
    "top_reg_df = top_reg_sort.to_frame()\n",
    "top_reg_df\n",
    "\n",
    "#reset the index for final 4 drugs of interest\n",
    "tumor_drugs_df = top_reg_df.reset_index()\n",
    "\n",
    "# Create a tumor drug regimen list with tumor volume for plotting\n",
    "final_drug_list = tumor_drugs_df.groupby('Drug Regimen')['Tumor Volume (mm3)'].apply(list)\n",
    "final_drug_list\n",
    "\n",
    "#Turn the list into a dataframe for manipulation\n",
    "final_drugs_df = pd.DataFrame(final_drug_list)\n",
    "\n",
    "# Generate a box plot of the final tumor volume of each mouse across the top four drug regimens\n",
    "tumor_volumes = [volume for volume in final_drugs_df['Tumor Volume (mm3)']]\n",
    "plt.boxplot(tumor_volumes, labels=drug_list)\n",
    "plt.ylim(20, 80)\n",
    "plt.title(\"Final Tumor Volume per Mouse Across Top 4 Drug Regimens\")\n",
    "plt.ylabel('Tumor Volume (mm3)')\n",
    "plt.xlabel('Drug Regimen')\n"
   ]
  },
  {
   "cell_type": "markdown",
   "metadata": {},
   "source": [
    "## Line and Scatter Plots"
   ]
  },
  {
   "cell_type": "code",
   "execution_count": null,
   "metadata": {},
   "outputs": [],
   "source": [
    "# Randomly selected a mouse and grab data for that particular mouse, the mouse chosen: m601\n",
    "\n",
    "time_point_vs_tumor_vol = combined_df[combined_df[\"Mouse ID\"].isin([\"m601\"])]\n",
    "time_point_vs_tumor_vol\n",
    "\n",
    "#Create new data frame for mouse ID m601 with ID, timepoint and tumor volume\n",
    "\n",
    "time_point_vs_tumor_vol_df = time_point_vs_tumor_vol[[\"Mouse ID\", \"Timepoint\", \"Tumor Volume (mm3)\"]]\n",
    "time_point_vs_tumor_vol_df\n",
    "\n",
    "# Establish line plot data frame, resetting the index\n",
    "line_plot = time_point_vs_tumor_vol_df.reset_index()\n",
    "line_plot"
   ]
  },
  {
   "cell_type": "code",
   "execution_count": null,
   "metadata": {},
   "outputs": [],
   "source": [
    "# Remove index for graphing of the line plot with final dataframe\n",
    "final_line_plot = line_plot[[\"Mouse ID\", \"Timepoint\", \"Tumor Volume (mm3)\"]]\n",
    "final_line_plot\n",
    "\n",
    "# Generate a line plot of time point versus tumor volume for a mouse treated with Capomulin\n",
    "color = [\"green\", \"orange\"]\n",
    "lines_df = final_line_plot.plot.line(color = color)\n",
    "plt.title(\"Timepoint vs Tumor Volume\")\n",
    "plt.xlabel('Timepoint')\n",
    "plt.ylabel('Tumor Volume (mm3)')\n"
   ]
  },
  {
   "cell_type": "code",
   "execution_count": null,
   "metadata": {},
   "outputs": [],
   "source": [
    "# Create a dataframe to retrieve data for the specific drug regimen 'Capomulin' using pandas method\n",
    "Capomulin_df = combined_df[combined_df[\"Drug Regimen\"].isin([\"Capomulin\"])]\n",
    "Capomulin_df\n",
    "\n",
    "Capomulin_Scatter_plot = Capomulin_df.reset_index()\n",
    "Capomulin_Scatter_plot\n",
    "\n",
    "Capomulin_weight = Capomulin_Scatter_plot.groupby(['Mouse ID', 'Weight (g)', 'Tumor Volume (mm3)']).mean()\n",
    "Capomulin_weight\n",
    "\n",
    "Capomulin_weight_volume_plot = pd.DataFrame(Capomulin_weight).reset_index()\n",
    "Capomulin_weight_volume_plot\n",
    "\n",
    "# Generate a scatter plot of mouse weight versus average tumor volume for the Capomulin regimen\n",
    "Capomulin_scatter_final = Capomulin_weight_volume_plot.groupby('Mouse ID').mean()\n",
    "Capomulin_scatter_final\n",
    "\n",
    "Capomulin_scatter_final.plot(kind='scatter', x='Weight (g)', \n",
    "             y='Tumor Volume (mm3)', grid = True, figsize= (8,8), c='red', s=100)\n",
    "\n",
    "plt.title(\"Mouse Weight vs Average Tumor Volume for Capomulin Drug Regimen\")\n",
    "plt.xlabel('Mouse Weight (g)')\n",
    "plt.ylabel('Average Tumor Volume (mm3)')\n"
   ]
  },
  {
   "cell_type": "code",
   "execution_count": null,
   "metadata": {},
   "outputs": [],
   "source": [
    "# Create a dataframe to retrieve data for the specific drug regimen 'Capomulin' using pyplot method\n",
    "\n",
    "# Get the data for the specific drug and calculate the average\n",
    "Capomulin_data = combined_mousestudy_df.loc[combined_mousestudy_df[\"Drug Regimen\"]==\"Capomulin\"]\n",
    "average = Capomulin_data.groupby(['Mouse ID']).mean()\n",
    "\n",
    "# plot the data\n",
    "plt.scatter(average[\"Weight (g)\"], average[\"Tumor Volume (mm3)\"], c='red', s=80)\n",
    "plt.title(\"Mouse Weight vs Average Tumor Volume for Capomulin Drug Regimen\")\n",
    "plt.xlabel('Mouse Weight (g)')\n",
    "plt.ylabel('Average Tumor Volume (mm3)')\n"
   ]
  },
  {
   "cell_type": "markdown",
   "metadata": {},
   "source": [
    "## Correlation and Regression"
   ]
  },
  {
   "cell_type": "code",
   "execution_count": null,
   "metadata": {},
   "outputs": [],
   "source": [
    "# Add the linear regression equation and line to plot\n",
    "x_values = Capomulin_scatter_final[\"Weight (g)\"]\n",
    "y_values = Capomulin_scatter_final[\"Tumor Volume (mm3)\"]\n",
    " \n",
    "(slope, intercept, rvalue, pvalue, stderr) = linregress(x_values, y_values)\n",
    "regress_values = x_values * slope + intercept\n",
    "\n",
    "plt.scatter(x_values,y_values, color = 'red')\n",
    "\n",
    "plt.plot(x_values,regress_values,\"r-\",color = \"blue\", label = \"y = \" + str(round(slope,2)) + \"x + \" + str(round(intercept,2)))\n",
    "plt.legend(loc=\"upper left\")\n",
    "plt.xlabel('Mouse Weight (g)')\n",
    "plt.ylabel('Average Tumor Volume (mm3)')\n",
    "plt.title(\"Mouse Weight Vs. Average Tumor Volume\")\n",
    "\n",
    "print(f\"The r-squared is: {rvalue**2}\")\n",
    "plt.show()\n"
   ]
  },
  {
   "cell_type": "code",
   "execution_count": null,
   "metadata": {},
   "outputs": [],
   "source": []
  }
 ],
 "metadata": {
  "anaconda-cloud": {},
  "kernelspec": {
   "display_name": "Python 3",
   "language": "python",
   "name": "python3"
  },
  "language_info": {
   "codemirror_mode": {
    "name": "ipython",
    "version": 3
   },
   "file_extension": ".py",
   "mimetype": "text/x-python",
   "name": "python",
   "nbconvert_exporter": "python",
   "pygments_lexer": "ipython3",
   "version": "3.7.6"
  }
 },
 "nbformat": 4,
 "nbformat_minor": 4
}
