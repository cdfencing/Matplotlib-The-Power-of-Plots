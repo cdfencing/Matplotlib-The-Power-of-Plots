{
 "cells": [
  {
   "cell_type": "markdown",
   "metadata": {},
   "source": [
    "## Observations and Insights "
   ]
  },
  {
   "cell_type": "code",
   "execution_count": 40,
   "metadata": {},
   "outputs": [
    {
     "data": {
      "text/html": [
       "<div>\n",
       "<style scoped>\n",
       "    .dataframe tbody tr th:only-of-type {\n",
       "        vertical-align: middle;\n",
       "    }\n",
       "\n",
       "    .dataframe tbody tr th {\n",
       "        vertical-align: top;\n",
       "    }\n",
       "\n",
       "    .dataframe thead th {\n",
       "        text-align: right;\n",
       "    }\n",
       "</style>\n",
       "<table border=\"1\" class=\"dataframe\">\n",
       "  <thead>\n",
       "    <tr style=\"text-align: right;\">\n",
       "      <th></th>\n",
       "      <th>Mouse ID</th>\n",
       "      <th>Drug Regimen</th>\n",
       "      <th>Sex</th>\n",
       "      <th>Age_months</th>\n",
       "      <th>Weight (g)</th>\n",
       "      <th>Timepoint</th>\n",
       "      <th>Tumor Volume (mm3)</th>\n",
       "      <th>Metastatic Sites</th>\n",
       "    </tr>\n",
       "  </thead>\n",
       "  <tbody>\n",
       "    <tr>\n",
       "      <th>454</th>\n",
       "      <td>a203</td>\n",
       "      <td>Infubinol</td>\n",
       "      <td>Female</td>\n",
       "      <td>20</td>\n",
       "      <td>23</td>\n",
       "      <td>0</td>\n",
       "      <td>45.000000</td>\n",
       "      <td>0</td>\n",
       "    </tr>\n",
       "    <tr>\n",
       "      <th>455</th>\n",
       "      <td>a203</td>\n",
       "      <td>Infubinol</td>\n",
       "      <td>Female</td>\n",
       "      <td>20</td>\n",
       "      <td>23</td>\n",
       "      <td>5</td>\n",
       "      <td>48.508468</td>\n",
       "      <td>0</td>\n",
       "    </tr>\n",
       "    <tr>\n",
       "      <th>456</th>\n",
       "      <td>a203</td>\n",
       "      <td>Infubinol</td>\n",
       "      <td>Female</td>\n",
       "      <td>20</td>\n",
       "      <td>23</td>\n",
       "      <td>10</td>\n",
       "      <td>51.852437</td>\n",
       "      <td>1</td>\n",
       "    </tr>\n",
       "    <tr>\n",
       "      <th>457</th>\n",
       "      <td>a203</td>\n",
       "      <td>Infubinol</td>\n",
       "      <td>Female</td>\n",
       "      <td>20</td>\n",
       "      <td>23</td>\n",
       "      <td>15</td>\n",
       "      <td>52.777870</td>\n",
       "      <td>1</td>\n",
       "    </tr>\n",
       "    <tr>\n",
       "      <th>458</th>\n",
       "      <td>a203</td>\n",
       "      <td>Infubinol</td>\n",
       "      <td>Female</td>\n",
       "      <td>20</td>\n",
       "      <td>23</td>\n",
       "      <td>20</td>\n",
       "      <td>55.173336</td>\n",
       "      <td>1</td>\n",
       "    </tr>\n",
       "  </tbody>\n",
       "</table>\n",
       "</div>"
      ],
      "text/plain": [
       "    Mouse ID Drug Regimen     Sex  Age_months  Weight (g)  Timepoint  \\\n",
       "454     a203    Infubinol  Female          20          23          0   \n",
       "455     a203    Infubinol  Female          20          23          5   \n",
       "456     a203    Infubinol  Female          20          23         10   \n",
       "457     a203    Infubinol  Female          20          23         15   \n",
       "458     a203    Infubinol  Female          20          23         20   \n",
       "\n",
       "     Tumor Volume (mm3)  Metastatic Sites  \n",
       "454           45.000000                 0  \n",
       "455           48.508468                 0  \n",
       "456           51.852437                 1  \n",
       "457           52.777870                 1  \n",
       "458           55.173336                 1  "
      ]
     },
     "execution_count": 40,
     "metadata": {},
     "output_type": "execute_result"
    }
   ],
   "source": [
    "%matplotlib inline\n",
    "\n",
    "# Dependencies and Setup\n",
    "import matplotlib.pyplot as plt\n",
    "import numpy as np\n",
    "import pandas as pd\n",
    "import scipy.stats as st\n",
    "\n",
    "# Study data files\n",
    "mouse_metadata_path = \"data/Mouse_metadata.csv\"\n",
    "study_results_path = \"data/Study_results.csv\"\n",
    "\n",
    "# Read the mouse data and the study results\n",
    "mouse_metadata = pd.read_csv(mouse_metadata_path)\n",
    "study_results = pd.read_csv(study_results_path)\n",
    "\n",
    "# Combine the data into a single dataset and display the data table for preview\n",
    "combined_mousestudy_df = pd.merge(mouse_metadata, study_results,\n",
    "                                 how='left', on='Mouse ID')\n",
    "\n",
    "# sorting by mouse id and remove values that are duplicated\n",
    "combined_mousestudy_df.sort_values([\"Mouse ID\", \"Timepoint\"], inplace = True) \n",
    "\n",
    "combined_mousestudy_df.loc[combined_mousestudy_df.duplicated(subset = [\"Mouse ID\", \"Timepoint\"]), \"Mouse ID\"]\n",
    "\n",
    "combined_mousestudy_df = combined_mousestudy_df.loc[combined_mousestudy_df[\"Mouse ID\"] != \"g989\", :]\n",
    " \n",
    "#Display data\n",
    "#combined_mousestudy_df[\"Tumor Volume (mm3)\"] = combined_mousestudy_df[\"Tumor Volume (mm3)\"].map('{:,.2f}'.format)\n",
    "\n",
    "combined_mousestudy_df.head()\n"
   ]
  },
  {
   "cell_type": "markdown",
   "metadata": {},
   "source": [
    "## Summary Statistics"
   ]
  },
  {
   "cell_type": "code",
   "execution_count": 41,
   "metadata": {},
   "outputs": [
    {
     "data": {
      "text/html": [
       "<div>\n",
       "<style scoped>\n",
       "    .dataframe tbody tr th:only-of-type {\n",
       "        vertical-align: middle;\n",
       "    }\n",
       "\n",
       "    .dataframe tbody tr th {\n",
       "        vertical-align: top;\n",
       "    }\n",
       "\n",
       "    .dataframe thead th {\n",
       "        text-align: right;\n",
       "    }\n",
       "</style>\n",
       "<table border=\"1\" class=\"dataframe\">\n",
       "  <thead>\n",
       "    <tr style=\"text-align: right;\">\n",
       "      <th></th>\n",
       "      <th>Avg Tumor Vol</th>\n",
       "      <th>Mediam Tumor Vol</th>\n",
       "      <th>Tumor Vol Variance</th>\n",
       "      <th>Tumor Vol Standard Deviation</th>\n",
       "      <th>Tumor Vol Standard Error of Mean</th>\n",
       "    </tr>\n",
       "    <tr>\n",
       "      <th>Drug Regimen</th>\n",
       "      <th></th>\n",
       "      <th></th>\n",
       "      <th></th>\n",
       "      <th></th>\n",
       "      <th></th>\n",
       "    </tr>\n",
       "  </thead>\n",
       "  <tbody>\n",
       "    <tr>\n",
       "      <th>Capomulin</th>\n",
       "      <td>40.675741</td>\n",
       "      <td>41.557809</td>\n",
       "      <td>24.947764</td>\n",
       "      <td>4.994774</td>\n",
       "      <td>0.329346</td>\n",
       "    </tr>\n",
       "    <tr>\n",
       "      <th>Ceftamin</th>\n",
       "      <td>52.591172</td>\n",
       "      <td>51.776157</td>\n",
       "      <td>39.290177</td>\n",
       "      <td>6.268188</td>\n",
       "      <td>0.469821</td>\n",
       "    </tr>\n",
       "    <tr>\n",
       "      <th>Infubinol</th>\n",
       "      <td>52.884795</td>\n",
       "      <td>51.820584</td>\n",
       "      <td>43.128684</td>\n",
       "      <td>6.567243</td>\n",
       "      <td>0.492236</td>\n",
       "    </tr>\n",
       "    <tr>\n",
       "      <th>Ketapril</th>\n",
       "      <td>55.235638</td>\n",
       "      <td>53.698743</td>\n",
       "      <td>68.553577</td>\n",
       "      <td>8.279709</td>\n",
       "      <td>0.603860</td>\n",
       "    </tr>\n",
       "    <tr>\n",
       "      <th>Naftisol</th>\n",
       "      <td>54.331565</td>\n",
       "      <td>52.509285</td>\n",
       "      <td>66.173479</td>\n",
       "      <td>8.134708</td>\n",
       "      <td>0.596466</td>\n",
       "    </tr>\n",
       "  </tbody>\n",
       "</table>\n",
       "</div>"
      ],
      "text/plain": [
       "              Avg Tumor Vol  Mediam Tumor Vol  Tumor Vol Variance  \\\n",
       "Drug Regimen                                                        \n",
       "Capomulin         40.675741         41.557809           24.947764   \n",
       "Ceftamin          52.591172         51.776157           39.290177   \n",
       "Infubinol         52.884795         51.820584           43.128684   \n",
       "Ketapril          55.235638         53.698743           68.553577   \n",
       "Naftisol          54.331565         52.509285           66.173479   \n",
       "\n",
       "              Tumor Vol Standard Deviation  Tumor Vol Standard Error of Mean  \n",
       "Drug Regimen                                                                  \n",
       "Capomulin                         4.994774                          0.329346  \n",
       "Ceftamin                          6.268188                          0.469821  \n",
       "Infubinol                         6.567243                          0.492236  \n",
       "Ketapril                          8.279709                          0.603860  \n",
       "Naftisol                          8.134708                          0.596466  "
      ]
     },
     "execution_count": 41,
     "metadata": {},
     "output_type": "execute_result"
    }
   ],
   "source": [
    "# Summary statistics table \n",
    "# mean, median, variance, standard deviation, and SEM (standard error of the mean) of the tumor volume for each regimen\n",
    "\n",
    "\n",
    "tumor_volume_avg = combined_mousestudy_df.groupby([\"Drug Regimen\"]).mean()[\"Tumor Volume (mm3)\"].rename(\"Mean\")\n",
    "tumor_volume_median = combined_mousestudy_df.groupby([\"Drug Regimen\"]).median()[\"Tumor Volume (mm3)\"].rename(\"Median\")\n",
    "tumor_volume_variance = combined_mousestudy_df.groupby([\"Drug Regimen\"]).var()[\"Tumor Volume (mm3)\"].rename(\"Variance\")\n",
    "tumor_volume_standev = combined_mousestudy_df.groupby([\"Drug Regimen\"]).std()[\"Tumor Volume (mm3)\"].rename(\"Standard Deviation\")\n",
    "tumor_volume_sem = combined_mousestudy_df.groupby([\"Drug Regimen\"]).sem()[\"Tumor Volume (mm3)\"].rename(\"Standard Error of Mean\")\n",
    "\n",
    "Summary_tumor_volume = pd.DataFrame({'Avg Tumor Vol': tumor_volume_avg, 'Mediam Tumor Vol': tumor_volume_median, \n",
    "                                     'Tumor Vol Variance': tumor_volume_variance, 'Tumor Vol Standard Deviation': tumor_volume_standev, \n",
    "                                     'Tumor Vol Standard Error of Mean': tumor_volume_sem})\n",
    "\n",
    "Summary_tumor_volume.head()"
   ]
  },
  {
   "cell_type": "markdown",
   "metadata": {},
   "source": [
    "## Bar and Pie Charts"
   ]
  },
  {
   "cell_type": "code",
   "execution_count": 57,
   "metadata": {},
   "outputs": [
    {
     "data": {
      "text/plain": [
       "Text(0, 0.5, 'Number of Mice')"
      ]
     },
     "execution_count": 57,
     "metadata": {},
     "output_type": "execute_result"
    },
    {
     "data": {
      "image/png": "[encoded data removed]",
      "text/plain": [
       "<Figure size 432x288 with 1 Axes>"
      ]
     },
     "metadata": {
      "needs_background": "light"
     },
     "output_type": "display_data"
    }
   ],
   "source": [
    "# Grouping mice by drug regimen \n",
    "mice_by_treatment = combined_mousestudy_df.groupby(\"Drug Regimen\")\n",
    "\n",
    "# Count how many number of mice in each regimen\n",
    "count_mice_by_treatment = mice_by_treatment[\"Drug Regimen\"].count()\n",
    "\n",
    "# Bar plot displaying number of mice per drug regimen by pandas method\n",
    "\n",
    "count_chart = count_mice_by_treatment.plot(kind='bar')\n",
    "\n",
    "# Set the xlabel and ylabel \n",
    "plt.title(\"Mice Per Drug Regimen\")\n",
    "count_chart.set_xlabel(\"Drug Regimen\")\n",
    "count_chart.set_ylabel(\"Number of Mice\")"
   ]
  },
  {
   "cell_type": "code",
   "execution_count": 88,
   "metadata": {},
   "outputs": [
    {
     "data": {
      "text/plain": [
       "<BarContainer object of 10 artists>"
      ]
     },
     "execution_count": 88,
     "metadata": {},
     "output_type": "execute_result"
    },
    {
     "data": {
      "image/png": "[encoded data removed]",
      "text/plain": [
       "<Figure size 432x288 with 1 Axes>"
      ]
     },
     "metadata": {
      "needs_background": "light"
     },
     "output_type": "display_data"
    }
   ],
   "source": [
    "# Bar plot displaying number of mice per drug regimen by pyplot method\n",
    "\n",
    "drug_regimen = combined_mousestudy_df[\"Drug Regimen\"].unique()\n",
    "mice_in_treatments = count_mice_by_treatment\n",
    "x_axis = np.arange(len(mice_in_treatments))\n",
    "\n",
    "plt.title(\"Mice Per Drug Regimen\")\n",
    "plt.xlabel(\"Drug Regimen\")\n",
    "plt.ylabel(\"Number of Mice\")\n",
    "\n",
    "tick_locations = [drug for drug in x_axis]\n",
    "plt.xticks(tick_locations, drug_regimen)\n",
    "plt.xticks(rotation=90)\n",
    "\n",
    "plt.bar(x_axis, mice_in_treatments, color=\"b\", align=\"center\")\n"
   ]
  },
  {
   "cell_type": "code",
   "execution_count": 136,
   "metadata": {},
   "outputs": [
    {
     "data": {
      "text/plain": [
       "Text(0, 0.5, '')"
      ]
     },
     "execution_count": 136,
     "metadata": {},
     "output_type": "execute_result"
    },
    {
     "data": {
      "image/png": "[encoded data removed]",
      "text/plain": [
       "<Figure size 432x288 with 1 Axes>"
      ]
     },
     "metadata": {},
     "output_type": "display_data"
    }
   ],
   "source": [
    "# Grouping mice by drug regimen \n",
    "mice_by_sex = combined_mousestudy_df.groupby(\"Sex\")\n",
    "\n",
    "# Count how many number of mice in each regimen\n",
    "count_mice_by_sex = mice_by_sex[\"Sex\"].count()\n",
    "\n",
    "# pie chart displaying the distribution of female versus male mice using pandas\n",
    "\n",
    "mice_by_sex_chart = count_mice_by_sex.plot(kind='pie', autopct=\"%1.1f%%\", shadow=True, startangle=0, colors=colors) \n",
    "plt.title(\"Mice by Sex\")\n",
    "plt.axis(\"equal\")\n",
    "plt.ylabel(None)\n"
   ]
  },
  {
   "cell_type": "code",
   "execution_count": 127,
   "metadata": {},
   "outputs": [
    {
     "data": {
      "text/plain": [
       "(-1.1065502689644005,\n",
       " 1.1003119175697333,\n",
       " -1.1041200173094385,\n",
       " 1.1079114197007642)"
      ]
     },
     "execution_count": 127,
     "metadata": {},
     "output_type": "execute_result"
    },
    {
     "data": {
      "image/png": "[encoded data removed]",
      "text/plain": [
       "<Figure size 432x288 with 1 Axes>"
      ]
     },
     "metadata": {},
     "output_type": "display_data"
    }
   ],
   "source": [
    "# pie chart displaying the distribution of female versus male mice using pyplot\n",
    "\n",
    "sex = combined_mousestudy_df[\"Sex\"].unique()\n",
    "percent_sex = count_mice_by_sex\n",
    "colors = [\"pink\", \"blue\"]\n",
    "explode = (0,0)\n",
    "\n",
    "plt.pie(percent_sex, explode=explode, labels=sex, colors=colors,\n",
    "        autopct=\"%1.1f%%\", shadow=True, startangle=0)\n",
    "# Create axes which are equal so we have a perfect circle\n",
    "plt.title(\"Mice by Sex\")\n",
    "plt.axis(\"equal\")"
   ]
  },
  {
   "cell_type": "markdown",
   "metadata": {},
   "source": [
    "## Quartiles, Outliers and Boxplots"
   ]
  },
  {
   "cell_type": "code",
   "execution_count": 78,
   "metadata": {},
   "outputs": [
    {
     "data": {
      "text/html": [
       "<div>\n",
       "<style scoped>\n",
       "    .dataframe tbody tr th:only-of-type {\n",
       "        vertical-align: middle;\n",
       "    }\n",
       "\n",
       "    .dataframe tbody tr th {\n",
       "        vertical-align: top;\n",
       "    }\n",
       "\n",
       "    .dataframe thead th {\n",
       "        text-align: right;\n",
       "    }\n",
       "</style>\n",
       "<table border=\"1\" class=\"dataframe\">\n",
       "  <thead>\n",
       "    <tr style=\"text-align: right;\">\n",
       "      <th></th>\n",
       "      <th>Mouse ID</th>\n",
       "      <th>Drug Regimen</th>\n",
       "      <th>Timepoint</th>\n",
       "      <th>Tumor Volume (mm3)</th>\n",
       "    </tr>\n",
       "  </thead>\n",
       "  <tbody>\n",
       "    <tr>\n",
       "      <th>454</th>\n",
       "      <td>a203</td>\n",
       "      <td>Infubinol</td>\n",
       "      <td>0</td>\n",
       "      <td>45.000000</td>\n",
       "    </tr>\n",
       "    <tr>\n",
       "      <th>455</th>\n",
       "      <td>a203</td>\n",
       "      <td>Infubinol</td>\n",
       "      <td>5</td>\n",
       "      <td>48.508468</td>\n",
       "    </tr>\n",
       "    <tr>\n",
       "      <th>456</th>\n",
       "      <td>a203</td>\n",
       "      <td>Infubinol</td>\n",
       "      <td>10</td>\n",
       "      <td>51.852437</td>\n",
       "    </tr>\n",
       "    <tr>\n",
       "      <th>457</th>\n",
       "      <td>a203</td>\n",
       "      <td>Infubinol</td>\n",
       "      <td>15</td>\n",
       "      <td>52.777870</td>\n",
       "    </tr>\n",
       "    <tr>\n",
       "      <th>458</th>\n",
       "      <td>a203</td>\n",
       "      <td>Infubinol</td>\n",
       "      <td>20</td>\n",
       "      <td>55.173336</td>\n",
       "    </tr>\n",
       "    <tr>\n",
       "      <th>...</th>\n",
       "      <td>...</td>\n",
       "      <td>...</td>\n",
       "      <td>...</td>\n",
       "      <td>...</td>\n",
       "    </tr>\n",
       "    <tr>\n",
       "      <th>1888</th>\n",
       "      <td>z969</td>\n",
       "      <td>Naftisol</td>\n",
       "      <td>25</td>\n",
       "      <td>63.145652</td>\n",
       "    </tr>\n",
       "    <tr>\n",
       "      <th>1889</th>\n",
       "      <td>z969</td>\n",
       "      <td>Naftisol</td>\n",
       "      <td>30</td>\n",
       "      <td>65.841013</td>\n",
       "    </tr>\n",
       "    <tr>\n",
       "      <th>1890</th>\n",
       "      <td>z969</td>\n",
       "      <td>Naftisol</td>\n",
       "      <td>35</td>\n",
       "      <td>69.176246</td>\n",
       "    </tr>\n",
       "    <tr>\n",
       "      <th>1891</th>\n",
       "      <td>z969</td>\n",
       "      <td>Naftisol</td>\n",
       "      <td>40</td>\n",
       "      <td>70.314904</td>\n",
       "    </tr>\n",
       "    <tr>\n",
       "      <th>1892</th>\n",
       "      <td>z969</td>\n",
       "      <td>Naftisol</td>\n",
       "      <td>45</td>\n",
       "      <td>73.867845</td>\n",
       "    </tr>\n",
       "  </tbody>\n",
       "</table>\n",
       "<p>1880 rows × 4 columns</p>\n",
       "</div>"
      ],
      "text/plain": [
       "     Mouse ID Drug Regimen  Timepoint  Tumor Volume (mm3)\n",
       "454      a203    Infubinol          0           45.000000\n",
       "455      a203    Infubinol          5           48.508468\n",
       "456      a203    Infubinol         10           51.852437\n",
       "457      a203    Infubinol         15           52.777870\n",
       "458      a203    Infubinol         20           55.173336\n",
       "...       ...          ...        ...                 ...\n",
       "1888     z969     Naftisol         25           63.145652\n",
       "1889     z969     Naftisol         30           65.841013\n",
       "1890     z969     Naftisol         35           69.176246\n",
       "1891     z969     Naftisol         40           70.314904\n",
       "1892     z969     Naftisol         45           73.867845\n",
       "\n",
       "[1880 rows x 4 columns]"
      ]
     },
     "execution_count": 78,
     "metadata": {},
     "output_type": "execute_result"
    }
   ],
   "source": [
    "# Calculate the final tumor volume of each mouse across four of the treatment regimens:  \n",
    "# Capomulin, Ramicane, Infubinol, and Ceftamin\n",
    "\n",
    "# Start by getting the last (greatest) timepoint for each mouse\n",
    "\n",
    "mice_by_timepoint = combined_mousestudy_df[[\"Mouse ID\", \"Drug Regimen\", \"Timepoint\", \"Tumor Volume (mm3)\"]]\n",
    "#max_timepoint = mice_by_timepoint[\"Timepoint\"].max()\n",
    "mice_by_timepoint\n",
    "# Merge this group df with the original dataframe to get the tumor volume at the last timepoint\n"
   ]
  },
  {
   "cell_type": "code",
   "execution_count": null,
   "metadata": {},
   "outputs": [],
   "source": [
    "# Put treatments into a list for for loop (and later for plot labels)\n",
    "\n",
    "\n",
    "# Create empty list to fill with tumor vol data (for plotting)\n",
    "\n",
    "\n",
    "# Calculate the IQR and quantitatively determine if there are any potential outliers. \n",
    "\n",
    "    \n",
    "    # Locate the rows which contain mice on each drug and get the tumor volumes\n",
    "    \n",
    "    \n",
    "    # add subset \n",
    "    \n",
    "    \n",
    "    # Determine outliers using upper and lower bounds\n",
    "    "
   ]
  },
  {
   "cell_type": "code",
   "execution_count": null,
   "metadata": {},
   "outputs": [],
   "source": [
    "# Generate a box plot of the final tumor volume of each mouse across four regimens of interest\n"
   ]
  },
  {
   "cell_type": "markdown",
   "metadata": {},
   "source": [
    "## Line and Scatter Plots"
   ]
  },
  {
   "cell_type": "code",
   "execution_count": null,
   "metadata": {},
   "outputs": [],
   "source": [
    "# Generate a line plot of time point versus tumor volume for a mouse treated with Capomulin\n"
   ]
  },
  {
   "cell_type": "code",
   "execution_count": null,
   "metadata": {},
   "outputs": [],
   "source": [
    "# Generate a scatter plot of mouse weight versus average tumor volume for the Capomulin regimen\n"
   ]
  },
  {
   "cell_type": "markdown",
   "metadata": {},
   "source": [
    "## Correlation and Regression"
   ]
  },
  {
   "cell_type": "code",
   "execution_count": null,
   "metadata": {},
   "outputs": [],
   "source": [
    "# Calculate the correlation coefficient and linear regression model \n",
    "# for mouse weight and average tumor volume for the Capomulin regimen\n"
   ]
  },
  {
   "cell_type": "code",
   "execution_count": null,
   "metadata": {},
   "outputs": [],
   "source": []
  }
 ],
 "metadata": {
  "anaconda-cloud": {},
  "kernelspec": {
   "display_name": "Python 3",
   "language": "python",
   "name": "python3"
  },
  "language_info": {
   "codemirror_mode": {
    "name": "ipython",
    "version": 3
   },
   "file_extension": ".py",
   "mimetype": "text/x-python",
   "name": "python",
   "nbconvert_exporter": "python",
   "pygments_lexer": "ipython3",
   "version": "3.7.6"
  }
 },
 "nbformat": 4,
 "nbformat_minor": 4
}
