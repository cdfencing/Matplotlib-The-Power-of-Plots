{
 "cells": [
  {
   "cell_type": "code",
   "execution_count": 3,
   "metadata": {},
   "outputs": [
    {
     "name": "stdout",
     "output_type": "stream",
     "text": [
      "None\n"
     ]
    }
   ],
   "source": [
    "# Dependencies and Setup\n",
    "import matplotlib.pyplot as plt\n",
    "import pandas as pd\n",
    "import scipy.stats as st\n",
    "\n",
    "# Study data files\n",
    "mouse_metadata_path = \"data/Mouse_metadata.csv\"\n",
    "study_results_path = \"data/Study_results.csv\"\n",
    "\n",
    "# Read the mouse data and the study results\n",
    "mouse_metadata = pd.read_csv(mouse_metadata_path)\n",
    "study_results = pd.read_csv(study_results_path)\n",
    "\n",
    "# Combine the data into a single dataset and display the data table for preview\n",
    "combined_mousestudy_df = pd.merge(mouse_metadata, study_results,\n",
    "                                 how='left', on='Mouse ID')\n",
    "\n",
    "# sorting by mouse id  \n",
    "combined_mousestudy_df.sort_values([\"Mouse ID\", \"Timepoint\"], inplace = True) \n",
    "      \n",
    "# dropping ALL duplicte values \n",
    "combined_data_clean = combined_mousestudy_df.drop_duplicates(subset =[\"Mouse ID\", \"Timepoint\"], \n",
    "                keep = False, inplace =True) \n",
    " \n",
    "#Display data\n",
    "# combined_mousestudy_df[\"Tumor Volume (mm3)\"] = combined_mousestudy_df[\"Tumor Volume (mm3)\"].map('{:,.2f}'.format)\n",
    "print(combined_data_clean)"
   ]
  },
  {
   "cell_type": "code",
   "execution_count": null,
   "metadata": {},
   "outputs": [],
   "source": [
    "# Summary statistics table \n",
    "# mean, median, variance, standard deviation, and SEM (standard error of the mean) of the tumor volume for each regimen\n",
    "\n",
    "tumor_volume = combined_mousestudy_df.groupby([\"Tumor Volume (mm3)\"])\n",
    "\n",
    "tumor_volume_avg = tumor_volume.mean()\n",
    "tumor_volume_median = tumor_volume.median()\n",
    "tumor_volume_variance = tumor_volume.var()\n",
    "tumor_volume_standev = tumor_volume.std()\n",
    "tumor_volume_sem = tumor_volume.sem()\n",
    "\n",
    "Summary_tumor_volume = pd.DataFrame({'Avg Tumor Volume': [tumor_volume_avg], 'Mediam Tumor Volume': [tumor_volume_median], \n",
    "                                     'Variance': [tumor_volume_variance], 'Standard Deviation': [tumor_volume_standev], \n",
    "                                     'Standard Error of Mean': [tumor_volume_sem]})\n",
    "Summary_tumor_volume"
   ]
  },
  {
   "cell_type": "code",
   "execution_count": null,
   "metadata": {},
   "outputs": [],
   "source": [
    "# Summary statistics table \n",
    "# mean, median, variance, standard deviation, and SEM (standard error of the mean) of the tumor volume for each regimen\n",
    "\n",
    "tumor_volume_avg = combined_mousestudy_df[\"Tumor Volume (mm3)\"].mean()\n",
    "tumor_volume_median = combined_mousestudy_df[\"Tumor Volume (mm3)\"].median()\n",
    "tumor_volume_variance = combined_mousestudy_df[\"Tumor Volume (mm3)\"].var()\n",
    "tumor_volume_standev = combined_mousestudy_df[\"Tumor Volume (mm3)\"].std()\n",
    "tumor_volume_sem = combined_mousestudy_df[\"Tumor Volume (mm3)\"].sem()\n",
    "\n",
    "Summary_tumor_volume = pd.DataFrame({'Avg Tumor Volume': [tumor_volume_avg], 'Mediam Tumor Volume': [tumor_volume_median], \n",
    "                                     'Variance': [tumor_volume_variance], 'Standard Deviation': [tumor_volume_standev], \n",
    "                                     'Standard Error of Mean': [tumor_volume_sem]})\n",
    "Summary_tumor_volume\n",
    "\n",
    "\n",
    "\n",
    "Summary_tumor_volume = pd.DataFrame(columns = ['Avg Tumor Vol', 'Mediam Tumor Vol', 'TumorvVol Variance', \n",
    "                                            'Tumor Vol Standard Deviation', 'Tumor Vol Standard Error of Mean'],\n",
    "                                    index = ['Infubinol', 'Placebo', 'Ceftamin', 'Stelasyn', 'Zoniferol',\n",
    "                                               'Ramicane', 'Ketapril', 'Propriva', 'Naftisol', 'Capomulin'])\n",
    "    \n",
    "Summary_tumor_volume.loc[\"Infubinol\"] = "
   ]
  },
  {
   "cell_type": "code",
   "execution_count": 4,
   "metadata": {},
   "outputs": [
    {
     "data": {
      "text/plain": [
       "array(['Infubinol', 'Placebo', 'Ceftamin', 'Stelasyn', 'Zoniferol',\n",
       "       'Ramicane', 'Ketapril', 'Propriva', 'Naftisol', 'Capomulin'],\n",
       "      dtype=object)"
      ]
     },
     "execution_count": 4,
     "metadata": {},
     "output_type": "execute_result"
    }
   ],
   "source": [
    "combined_mousestudy_df[\"Drug Regimen\"].unique()"
   ]
  },
  {
   "cell_type": "code",
   "execution_count": 6,
   "metadata": {},
   "outputs": [
    {
     "data": {
      "text/plain": [
       "array(['Infubinol', 'Placebo', 'Ceftamin', 'Stelasyn', 'Zoniferol',\n",
       "       'Ramicane', 'Ketapril', 'Propriva', 'Naftisol', 'Capomulin'],\n",
       "      dtype=object)"
      ]
     },
     "execution_count": 6,
     "metadata": {},
     "output_type": "execute_result"
    }
   ],
   "source": [
    "drug_regimen = combined_mousestudy_df[\"Drug Regimen\"].unique()\n",
    "drug_regimen"
   ]
  },
  {
   "cell_type": "code",
   "execution_count": null,
   "metadata": {},
   "outputs": [],
   "source": []
  }
 ],
 "metadata": {
  "kernelspec": {
   "display_name": "Python 3",
   "language": "python",
   "name": "python3"
  },
  "language_info": {
   "codemirror_mode": {
    "name": "ipython",
    "version": 3
   },
   "file_extension": ".py",
   "mimetype": "text/x-python",
   "name": "python",
   "nbconvert_exporter": "python",
   "pygments_lexer": "ipython3",
   "version": "3.7.6"
  }
 },
 "nbformat": 4,
 "nbformat_minor": 4
}
